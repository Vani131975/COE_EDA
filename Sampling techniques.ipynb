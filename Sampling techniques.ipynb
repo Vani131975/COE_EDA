{
 "cells": [
  {
   "cell_type": "code",
   "execution_count": 1,
   "id": "d610b1a7",
   "metadata": {},
   "outputs": [],
   "source": [
    "import pandas as pd \n",
    "from sklearn.utils import resample\n",
    "\n",
    "df =pd.DataFrame({\n",
    "    'Age':[22,25,27,28,30,35,40,45,50,55,60,65,70],\n",
    "    'Income':[2000,2500,2700,3200,3500,3800,4000,4200,4300,4500,5000,5500,6000],\n",
    "    'Class':['High','Low','Low','High','High','Low','High','High','Low','Low','High','High','Low']\n",
    "})"
   ]
  },
  {
   "cell_type": "markdown",
   "id": "2a4a7087",
   "metadata": {},
   "source": [
    "high -7\n",
    "low -6"
   ]
  },
  {
   "cell_type": "code",
   "execution_count": 10,
   "id": "7a5fbea0",
   "metadata": {},
   "outputs": [
    {
     "name": "stdout",
     "output_type": "stream",
     "text": [
      "    Age  Income Class\n",
      "0    22    2000  High\n",
      "3    28    3200  High\n",
      "4    30    3500  High\n",
      "6    40    4000  High\n",
      "7    45    4200  High\n",
      "10   60    5000  High\n",
      "11   65    5500  High \n",
      "     Age  Income Class\n",
      "1    25    2500   Low\n",
      "2    27    2700   Low\n",
      "5    35    3800   Low\n",
      "8    50    4300   Low\n",
      "9    55    4500   Low\n",
      "12   70    6000   Low\n"
     ]
    }
   ],
   "source": [
    "df_high=df[df['Class']=='High']\n",
    "df_low=df[df['Class']=='Low']\n",
    "print(df_high,\"\\n\",df_low)"
   ]
  },
  {
   "cell_type": "code",
   "execution_count": 11,
   "id": "4ba73520",
   "metadata": {},
   "outputs": [
    {
     "name": "stdout",
     "output_type": "stream",
     "text": [
      "Class\n",
      "High    6\n",
      "Low     6\n",
      "Name: count, dtype: int64\n"
     ]
    }
   ],
   "source": [
    "df_high_downsampled=resample(df_high,replace=False,n_samples=len(df_low),random_state=42)\n",
    "df_balanced=pd.concat([df_high_downsampled,df_low])\n",
    "print(df_balanced['Class'].value_counts())"
   ]
  },
  {
   "cell_type": "code",
   "execution_count": 18,
   "id": "0c690022",
   "metadata": {},
   "outputs": [
    {
     "name": "stdout",
     "output_type": "stream",
     "text": [
      "Class\n",
      "Low     7\n",
      "High    7\n",
      "Name: count, dtype: int64\n"
     ]
    }
   ],
   "source": [
    "df_low_upsampled=resample(df_low,replace=True,n_samples=len(df_high),random_state=42)\n",
    "df_balanced=pd.concat([df_low_upsampled,df_high])\n",
    "print(df_balanced['Class'].value_counts())"
   ]
  },
  {
   "cell_type": "markdown",
   "id": "7386165e",
   "metadata": {},
   "source": [
    "### 2nd dataset"
   ]
  },
  {
   "cell_type": "code",
   "execution_count": 20,
   "id": "43eccbd8",
   "metadata": {},
   "outputs": [],
   "source": [
    "df =pd.DataFrame({\n",
    "    'Age':[22,25,27,28,30,35,40,45,50,55,60,65,70],\n",
    "    'Income':[2000,2500,2700,3200,3500,3800,4000,4200,4300,4500,5000,5500,6000],\n",
    "    'Class':['Minority','Majority','Majority','Majority','Majority','Minority','Minority','Minority','Majority','Majority','Majority','Majority','Majority']\n",
    "})"
   ]
  },
  {
   "cell_type": "code",
   "execution_count": 25,
   "id": "d9de076d",
   "metadata": {},
   "outputs": [
    {
     "name": "stdout",
     "output_type": "stream",
     "text": [
      "    Age  Income     Class\n",
      "1    25    2500  Majority\n",
      "2    27    2700  Majority\n",
      "3    28    3200  Majority\n",
      "4    30    3500  Majority\n",
      "8    50    4300  Majority\n",
      "9    55    4500  Majority\n",
      "10   60    5000  Majority\n",
      "11   65    5500  Majority\n",
      "12   70    6000  Majority \n",
      "\n",
      "    Age  Income     Class\n",
      "0   22    2000  Minority\n",
      "5   35    3800  Minority\n",
      "6   40    4000  Minority\n",
      "7   45    4200  Minority\n"
     ]
    }
   ],
   "source": [
    "df_majority=df[df['Class']=='Majority']\n",
    "df_minority=df[df['Class']=='Minority']\n",
    "print(df_high,\"\\n\\n\",df_low)"
   ]
  },
  {
   "cell_type": "code",
   "execution_count": 26,
   "id": "67e838eb",
   "metadata": {},
   "outputs": [
    {
     "name": "stdout",
     "output_type": "stream",
     "text": [
      "Class\n",
      "Majority    4\n",
      "Minority    4\n",
      "Name: count, dtype: int64\n"
     ]
    }
   ],
   "source": [
    "df_majority_downsampled=resample(df_majority,replace=False,n_samples=len(df_minority),random_state=42)\n",
    "df_balanced=pd.concat([df_majority_downsampled,df_minority])\n",
    "print(df_balanced['Class'].value_counts())"
   ]
  },
  {
   "cell_type": "code",
   "execution_count": 27,
   "id": "245afd6f",
   "metadata": {},
   "outputs": [
    {
     "name": "stdout",
     "output_type": "stream",
     "text": [
      "Class\n",
      "Minority    9\n",
      "Majority    9\n",
      "Name: count, dtype: int64\n"
     ]
    }
   ],
   "source": [
    "df_minority_upsampled=resample(df_minority,replace=True,n_samples=len(df_majority),random_state=42)\n",
    "df_balanced=pd.concat([df_minority_upsampled,df_high])\n",
    "print(df_balanced['Class'].value_counts())"
   ]
  },
  {
   "cell_type": "markdown",
   "id": "7d8954ad",
   "metadata": {},
   "source": [
    "## SMOTE"
   ]
  },
  {
   "cell_type": "code",
   "execution_count": 37,
   "id": "60435b6b",
   "metadata": {},
   "outputs": [
    {
     "name": "stdout",
     "output_type": "stream",
     "text": [
      "Requirement already satisfied: imbalanced-learn in c:\\users\\cvr\\anaconda3\\lib\\site-packages (0.10.1)\n",
      "Requirement already satisfied: numpy>=1.17.3 in c:\\users\\cvr\\anaconda3\\lib\\site-packages (from imbalanced-learn) (1.24.3)\n",
      "Requirement already satisfied: scipy>=1.3.2 in c:\\users\\cvr\\anaconda3\\lib\\site-packages (from imbalanced-learn) (1.11.1)\n",
      "Requirement already satisfied: scikit-learn>=1.0.2 in c:\\users\\cvr\\anaconda3\\lib\\site-packages (from imbalanced-learn) (1.3.0)\n",
      "Requirement already satisfied: joblib>=1.1.1 in c:\\users\\cvr\\anaconda3\\lib\\site-packages (from imbalanced-learn) (1.2.0)\n",
      "Requirement already satisfied: threadpoolctl>=2.0.0 in c:\\users\\cvr\\anaconda3\\lib\\site-packages (from imbalanced-learn) (2.2.0)\n",
      "Note: you may need to restart the kernel to use updated packages.\n"
     ]
    }
   ],
   "source": [
    "pip install imbalanced-learn"
   ]
  },
  {
   "cell_type": "code",
   "execution_count": 50,
   "id": "7df2a3c5",
   "metadata": {},
   "outputs": [
    {
     "name": "stdout",
     "output_type": "stream",
     "text": [
      "Requirement already satisfied: imbalanced-learn==0.7.0 in c:\\users\\cvr\\anaconda3\\lib\\site-packages (0.7.0)\n",
      "Requirement already satisfied: numpy>=1.13.3 in c:\\users\\cvr\\anaconda3\\lib\\site-packages (from imbalanced-learn==0.7.0) (1.24.3)\n",
      "Requirement already satisfied: scipy>=0.19.1 in c:\\users\\cvr\\anaconda3\\lib\\site-packages (from imbalanced-learn==0.7.0) (1.11.1)\n",
      "Requirement already satisfied: scikit-learn>=0.23 in c:\\users\\cvr\\anaconda3\\lib\\site-packages (from imbalanced-learn==0.7.0) (1.3.0)\n",
      "Requirement already satisfied: joblib>=0.11 in c:\\users\\cvr\\anaconda3\\lib\\site-packages (from imbalanced-learn==0.7.0) (1.2.0)\n",
      "Requirement already satisfied: threadpoolctl>=2.0.0 in c:\\users\\cvr\\anaconda3\\lib\\site-packages (from scikit-learn>=0.23->imbalanced-learn==0.7.0) (2.2.0)\n",
      "Note: you may need to restart the kernel to use updated packages.\n"
     ]
    }
   ],
   "source": [
    "pip install imbalanced-learn==0.7.0"
   ]
  },
  {
   "cell_type": "code",
   "execution_count": 51,
   "id": "4c420d91",
   "metadata": {},
   "outputs": [],
   "source": [
    "from imblearn.over_sampling import SMOTE"
   ]
  },
  {
   "cell_type": "code",
   "execution_count": 52,
   "id": "38d91e48",
   "metadata": {},
   "outputs": [],
   "source": [
    "df =pd.DataFrame({\n",
    "    'Age':[22,25,27,28,30,35,40,45,50,55,60,65,70],\n",
    "    'Income':[2000,2500,2700,3200,3500,3800,4000,4200,4300,4500,5000,5500,6000],\n",
    "    'Class':['Minority','Majority','Majority','Majority','Majority','Minority','Minority','Minority','Majority','Majority','Majority','Majority','Majority']\n",
    "})"
   ]
  },
  {
   "cell_type": "code",
   "execution_count": 53,
   "id": "d501e8d0",
   "metadata": {},
   "outputs": [
    {
     "name": "stdout",
     "output_type": "stream",
     "text": [
      "Class\n",
      "Minority    9\n",
      "Majority    9\n",
      "Name: count, dtype: int64\n",
      "    Age  Income     Class\n",
      "0    22    2000  Minority\n",
      "1    25    2500  Majority\n",
      "2    27    2700  Majority\n",
      "3    28    3200  Majority\n",
      "4    30    3500  Majority\n",
      "5    35    3800  Minority\n",
      "6    40    4000  Minority\n",
      "7    45    4200  Minority\n",
      "8    50    4300  Majority\n",
      "9    55    4500  Majority\n",
      "10   60    5000  Majority\n",
      "11   65    5500  Majority\n",
      "12   70    6000  Majority\n",
      "13   40    4031  Minority\n",
      "14   35    3831  Minority\n",
      "15   44    4176  Minority\n",
      "16   35    3826  Minority\n",
      "17   41    4040  Minority\n"
     ]
    }
   ],
   "source": [
    "df['Class']=df['Class'].map({'Majority':0,'Minority':1})\n",
    "X=df[['Age','Income']]\n",
    "y=df['Class']\n",
    "smote=SMOTE(sampling_strategy='auto',random_state=42,k_neighbors=3)\n",
    "X_resampled,y_resampled=smote.fit_resample(X,y)\n",
    "y_resampled=y_resampled.map({0:'Majority',1:'Minority'})\n",
    "\n",
    "df_balanced=pd.concat([pd.DataFrame(X_resampled,columns=['Age','Income']),pd.DataFrame(y_resampled,columns=['Class'])],axis=1)\n",
    "print(df_balanced['Class'].value_counts())\n",
    "print(df_balanced)"
   ]
  },
  {
   "cell_type": "code",
   "execution_count": null,
   "id": "d65ef8fb",
   "metadata": {},
   "outputs": [],
   "source": []
  }
 ],
 "metadata": {
  "kernelspec": {
   "display_name": "Python 3 (ipykernel)",
   "language": "python",
   "name": "python3"
  },
  "language_info": {
   "codemirror_mode": {
    "name": "ipython",
    "version": 3
   },
   "file_extension": ".py",
   "mimetype": "text/x-python",
   "name": "python",
   "nbconvert_exporter": "python",
   "pygments_lexer": "ipython3",
   "version": "3.11.5"
  }
 },
 "nbformat": 4,
 "nbformat_minor": 5
}
